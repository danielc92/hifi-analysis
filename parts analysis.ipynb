{
 "cells": [
  {
   "cell_type": "markdown",
   "id": "42693363",
   "metadata": {},
   "source": [
    "# Daniels parts analysis"
   ]
  },
  {
   "cell_type": "code",
   "execution_count": null,
   "id": "ffe68288",
   "metadata": {
    "ExecuteTime": {
     "start_time": "2024-03-18T12:25:30.962Z"
    }
   },
   "outputs": [],
   "source": [
    "import  pandas\n",
    "import re\n",
    "import pygal\n",
    "from IPython.display import SVG, display"
   ]
  },
  {
   "cell_type": "code",
   "execution_count": null,
   "id": "c72413d2",
   "metadata": {
    "ExecuteTime": {
     "start_time": "2024-03-18T12:25:30.964Z"
    }
   },
   "outputs": [],
   "source": [
    "# Note: data downloaded 17/March/2024\n",
    "data = pandas.read_excel(\"./source/Amplifier SINAD list ASR + 3rd parties.xlsx\", \n",
    "                  engine=\"openpyxl\",\n",
    "                  sheet_name=\"data\")"
   ]
  },
  {
   "cell_type": "code",
   "execution_count": null,
   "id": "894903b0",
   "metadata": {
    "ExecuteTime": {
     "start_time": "2024-03-18T12:25:30.965Z"
    }
   },
   "outputs": [],
   "source": [
    "data.columns"
   ]
  },
  {
   "cell_type": "code",
   "execution_count": null,
   "id": "e8f30c98",
   "metadata": {
    "ExecuteTime": {
     "start_time": "2024-03-18T12:25:30.965Z"
    }
   },
   "outputs": [],
   "source": [
    "#  rename columns\n",
    "\n",
    "data = data[\n",
    "    [\n",
    "        \"Name\", \"SINAD (dB)\\n(5W, 4 ohms)\", \"Price (USD)\", \"Power (W)\\n(1% THD+N, 4 ohms)\"\n",
    "    ]\n",
    "]\n",
    "data.columns = [\n",
    "    \"name\",  \"sinad_5w_4ohm\", \"price_usd\", \"thd_1pc_4ohm\"\n",
    "]"
   ]
  },
  {
   "cell_type": "code",
   "execution_count": null,
   "id": "d3b5a72b",
   "metadata": {
    "ExecuteTime": {
     "start_time": "2024-03-18T12:25:30.967Z"
    }
   },
   "outputs": [],
   "source": [
    "data.info()"
   ]
  },
  {
   "cell_type": "code",
   "execution_count": null,
   "id": "abe08acb",
   "metadata": {
    "ExecuteTime": {
     "start_time": "2024-03-18T12:25:30.967Z"
    }
   },
   "outputs": [],
   "source": [
    "describe = data.describe()\n",
    "describe"
   ]
  },
  {
   "cell_type": "code",
   "execution_count": null,
   "id": "6c4eb58d",
   "metadata": {
    "ExecuteTime": {
     "start_time": "2024-03-18T12:25:30.968Z"
    }
   },
   "outputs": [],
   "source": [
    "###  can use these quartiles to divide thd column  into 4 categories\n",
    "\n",
    "first_quartile_thd_bound = describe.loc[\"25%\", \"thd_1pc_4ohm\"]\n",
    "second_quartile_thd_bound = describe.loc[\"50%\", \"thd_1pc_4ohm\"]\n",
    "third_quartile_thd_bound = describe.loc[\"75%\", \"thd_1pc_4ohm\"]"
   ]
  },
  {
   "cell_type": "code",
   "execution_count": null,
   "id": "ae394b5c",
   "metadata": {
    "ExecuteTime": {
     "start_time": "2024-03-18T12:25:30.969Z"
    }
   },
   "outputs": [],
   "source": [
    "def parse_thd_category(thd):\n",
    "    if (thd < first_quartile_thd_bound):\n",
    "        return f\"0 - {first_quartile_thd_bound}\"\n",
    "    elif (thd < second_quartile_thd_bound):\n",
    "        return f\"{first_quartile_thd_bound} - {second_quartile_thd_bound}\"\n",
    "    elif (thd < third_quartile_thd_bound):\n",
    "        return f\"{second_quartile_thd_bound} - {third_quartile_thd_bound}\"\n",
    "    return f\"{third_quartile_thd_bound} and above\""
   ]
  },
  {
   "cell_type": "code",
   "execution_count": null,
   "id": "92a9ce12",
   "metadata": {
    "ExecuteTime": {
     "start_time": "2024-03-18T12:25:30.970Z"
    }
   },
   "outputs": [],
   "source": [
    "def parse_usd(price):\n",
    "    parsed = re.match(\"^\\d+\",  str(price))\n",
    "    if (parsed is None):\n",
    "        return -1\n",
    "    return float(price)"
   ]
  },
  {
   "cell_type": "code",
   "execution_count": null,
   "id": "a594b3ff",
   "metadata": {
    "ExecuteTime": {
     "start_time": "2024-03-18T12:25:30.970Z"
    }
   },
   "outputs": [],
   "source": [
    "def display_and_export_ranked_horizontal_bar_chart(chart_data, chart_title, x_axis, y_axis, export_location):\n",
    "    values = list(zip(chart_data[y_axis], chart_data[x_axis]))\n",
    "    chart = pygal.HorizontalBar(legend_at_bottom=True,  \n",
    "                                human_readable=True, \n",
    "                                print_values=True,\n",
    "                               print_labels=True)\n",
    "    chart.title = chart_title\n",
    "\n",
    "    for c in values:\n",
    "        chart.add(c[0], round(c[1], 2))\n",
    "\n",
    "    chart.render_to_file(export_location)\n",
    "    display(SVG(chart.render(disable_xml_declaration=True)))"
   ]
  },
  {
   "cell_type": "code",
   "execution_count": null,
   "id": "7ff626a7",
   "metadata": {
    "ExecuteTime": {
     "start_time": "2024-03-18T12:25:30.971Z"
    }
   },
   "outputs": [],
   "source": [
    "# convert  the price column to float values and get rid of entries without a price\n",
    "data[\"price_usd\"] = data[\"price_usd\"].apply(parse_usd)\n",
    "data = data[data[\"price_usd\"] > 0]"
   ]
  },
  {
   "cell_type": "code",
   "execution_count": null,
   "id": "3e7e2a29",
   "metadata": {
    "ExecuteTime": {
     "start_time": "2024-03-18T12:25:30.972Z"
    }
   },
   "outputs": [],
   "source": [
    "data[\"thd_category\"] = data[\"thd_1pc_4ohm\"].apply(parse_thd_category)"
   ]
  },
  {
   "cell_type": "code",
   "execution_count": null,
   "id": "11ff146e",
   "metadata": {
    "ExecuteTime": {
     "start_time": "2024-03-18T12:25:30.973Z"
    }
   },
   "outputs": [],
   "source": [
    "data[\"price_to_sinad\"] = data.apply(lambda x: x.sinad_5w_4ohm / x.price_usd, axis=1)\n",
    "data[\"price_to_thd_1pc\"] = data.apply(lambda x: x.thd_1pc_4ohm / x.price_usd, axis=1)"
   ]
  },
  {
   "cell_type": "code",
   "execution_count": null,
   "id": "7404bcd8",
   "metadata": {
    "ExecuteTime": {
     "start_time": "2024-03-18T12:25:30.973Z"
    }
   },
   "outputs": [],
   "source": [
    "data.shape"
   ]
  },
  {
   "cell_type": "markdown",
   "id": "69c7a466",
   "metadata": {},
   "source": [
    "## THD @ 1% 4ohm analysis"
   ]
  },
  {
   "cell_type": "markdown",
   "id": "9279b5d0",
   "metadata": {},
   "source": [
    "### Top 10 price to thd 1% regardless of price"
   ]
  },
  {
   "cell_type": "code",
   "execution_count": null,
   "id": "b8028458",
   "metadata": {
    "ExecuteTime": {
     "start_time": "2024-03-18T12:25:30.975Z"
    }
   },
   "outputs": [],
   "source": [
    "subset = data.sort_values(\"price_to_thd_1pc\", ascending=False).head(10)\n",
    "subset"
   ]
  },
  {
   "cell_type": "code",
   "execution_count": null,
   "id": "94be537d",
   "metadata": {
    "ExecuteTime": {
     "start_time": "2024-03-18T12:25:30.976Z"
    }
   },
   "outputs": [],
   "source": [
    "display_and_export_ranked_horizontal_bar_chart(\n",
    "    chart_data=subset,\n",
    "    x_axis='price_to_thd_1pc',\n",
    "    y_axis='name',\n",
    "    chart_title='Top 10 price to thd 1% regardless of price',\n",
    "    export_location='./chart-exports/top-10-price_to_thd_1pc-unfiltered.svg'\n",
    ")"
   ]
  },
  {
   "cell_type": "markdown",
   "id": "c8092cc5",
   "metadata": {},
   "source": [
    "### Top 10 price to thd 1%,  under 125USD"
   ]
  },
  {
   "cell_type": "code",
   "execution_count": null,
   "id": "eea3e630",
   "metadata": {
    "ExecuteTime": {
     "start_time": "2024-03-18T12:25:30.977Z"
    }
   },
   "outputs": [],
   "source": [
    "subset = data[data[\"price_usd\"] < 125].sort_values(\"price_to_thd_1pc\", ascending=False).head(10)\n",
    "subset"
   ]
  },
  {
   "cell_type": "code",
   "execution_count": null,
   "id": "3a413b98",
   "metadata": {
    "ExecuteTime": {
     "start_time": "2024-03-18T12:25:30.978Z"
    }
   },
   "outputs": [],
   "source": [
    "\n",
    "display_and_export_ranked_horizontal_bar_chart(\n",
    "    chart_data=subset,\n",
    "    x_axis='price_to_thd_1pc',\n",
    "    y_axis='name',\n",
    "    chart_title='Top 10 price to thd 1% under $125 USD',\n",
    "    export_location='./chart-exports/top-10-price_to_thd_1pc-under-125-usd.svg'\n",
    ")"
   ]
  },
  {
   "cell_type": "markdown",
   "id": "95a4642b",
   "metadata": {},
   "source": [
    "### Top 10 price to thd 1%,  under 250USD"
   ]
  },
  {
   "cell_type": "code",
   "execution_count": null,
   "id": "282fb2f3",
   "metadata": {
    "ExecuteTime": {
     "start_time": "2024-03-18T12:25:30.979Z"
    }
   },
   "outputs": [],
   "source": [
    "subset = data[data[\"price_usd\"] < 250].sort_values(\"price_to_thd_1pc\", ascending=False).head(10)\n",
    "subset"
   ]
  },
  {
   "cell_type": "code",
   "execution_count": null,
   "id": "cb6f6168",
   "metadata": {
    "ExecuteTime": {
     "start_time": "2024-03-18T12:25:30.980Z"
    }
   },
   "outputs": [],
   "source": [
    "\n",
    "display_and_export_ranked_horizontal_bar_chart(\n",
    "    chart_data=subset,\n",
    "    x_axis='price_to_thd_1pc',\n",
    "    y_axis='name',\n",
    "    chart_title='Top 10 price to thd 1% under $250 USD',\n",
    "    export_location='./chart-exports/top-10-price_to_thd_1pc-under-250-usd.svg'\n",
    ")"
   ]
  },
  {
   "cell_type": "markdown",
   "id": "1d09d5b9",
   "metadata": {},
   "source": [
    "### Top 10 price to thd 1%,  under 500USD"
   ]
  },
  {
   "cell_type": "code",
   "execution_count": null,
   "id": "4483045c",
   "metadata": {
    "ExecuteTime": {
     "start_time": "2024-03-18T12:25:30.981Z"
    }
   },
   "outputs": [],
   "source": [
    "subset = data[data[\"price_usd\"] < 500].sort_values(\"price_to_thd_1pc\", ascending=False).head(10)\n",
    "subset"
   ]
  },
  {
   "cell_type": "code",
   "execution_count": null,
   "id": "84269277",
   "metadata": {
    "ExecuteTime": {
     "start_time": "2024-03-18T12:25:30.982Z"
    }
   },
   "outputs": [],
   "source": [
    "\n",
    "display_and_export_ranked_horizontal_bar_chart(\n",
    "    chart_data=subset,\n",
    "    x_axis='price_to_thd_1pc',\n",
    "    y_axis='name',\n",
    "    chart_title='Top 10 price to thd 1% under $500 USD',\n",
    "    export_location='./chart-exports/top-10-price_to_thd_1pc-under-500-usd.svg'\n",
    ")"
   ]
  },
  {
   "cell_type": "markdown",
   "id": "d87064ee",
   "metadata": {},
   "source": [
    "### Top 10 price to thd 1%,  under 1000USD"
   ]
  },
  {
   "cell_type": "code",
   "execution_count": null,
   "id": "b6853ebe",
   "metadata": {
    "ExecuteTime": {
     "start_time": "2024-03-18T12:25:30.983Z"
    }
   },
   "outputs": [],
   "source": [
    "subset = data[data[\"price_usd\"] < 1000].sort_values(\"price_to_thd_1pc\", ascending=False).head(10)\n",
    "subset"
   ]
  },
  {
   "cell_type": "code",
   "execution_count": null,
   "id": "b6f1fc99",
   "metadata": {
    "ExecuteTime": {
     "start_time": "2024-03-18T12:25:30.984Z"
    }
   },
   "outputs": [],
   "source": [
    "\n",
    "display_and_export_ranked_horizontal_bar_chart(\n",
    "    chart_data=subset,\n",
    "    x_axis='price_to_thd_1pc',\n",
    "    y_axis='name',\n",
    "    chart_title='Top 10 price to thd 1% under $1000 USD',\n",
    "    export_location='./chart-exports/top-10-price_to_thd_1pc-under-1000-usd.svg'\n",
    ")"
   ]
  },
  {
   "cell_type": "markdown",
   "id": "089acb6c",
   "metadata": {},
   "source": [
    "### Top 10 price to thd 1%, in 0-115.5 (thd_1pc_4ohm) category"
   ]
  },
  {
   "cell_type": "code",
   "execution_count": null,
   "id": "e216cf12",
   "metadata": {
    "ExecuteTime": {
     "start_time": "2024-03-18T12:25:30.985Z"
    }
   },
   "outputs": [],
   "source": [
    "data[\n",
    "    data[\"thd_category\"] == \"0 - 115.5\"\n",
    "].sort_values(\"price_to_thd_1pc\", ascending=False).head(10)"
   ]
  },
  {
   "cell_type": "markdown",
   "id": "dd3f2ffd",
   "metadata": {},
   "source": [
    "### Top 10 price to thd 1%, in 115.5 - 230.0 (thd_1pc_4ohm) category"
   ]
  },
  {
   "cell_type": "code",
   "execution_count": null,
   "id": "45c932a9",
   "metadata": {
    "ExecuteTime": {
     "start_time": "2024-03-18T12:25:30.986Z"
    }
   },
   "outputs": [],
   "source": [
    "data[\n",
    "    data[\"thd_category\"] == \"115.5 - 230.0\"\n",
    "].sort_values(\"price_to_thd_1pc\", ascending=False).head(10)"
   ]
  },
  {
   "cell_type": "markdown",
   "id": "fe695885",
   "metadata": {},
   "source": [
    "### Top 10 price to thd 1%, in 230.0 - 422.5 (thd_1pc_4ohm) category"
   ]
  },
  {
   "cell_type": "code",
   "execution_count": null,
   "id": "a5f59e9f",
   "metadata": {
    "ExecuteTime": {
     "start_time": "2024-03-18T12:25:30.987Z"
    }
   },
   "outputs": [],
   "source": [
    "data[\n",
    "    data[\"thd_category\"] == \"230.0 - 422.5\"\n",
    "].sort_values(\"price_to_thd_1pc\", ascending=False).head(10)"
   ]
  },
  {
   "cell_type": "markdown",
   "id": "ed6f9749",
   "metadata": {},
   "source": [
    "### Top 10 price to thd 1%, in 422.5 and above (thd_1pc_4ohm) category"
   ]
  },
  {
   "cell_type": "code",
   "execution_count": null,
   "id": "e38c0d3d",
   "metadata": {
    "ExecuteTime": {
     "start_time": "2024-03-18T12:25:30.988Z"
    }
   },
   "outputs": [],
   "source": [
    "data[\n",
    "    data[\"thd_category\"] == \"422.5 and above\"\n",
    "].sort_values(\"price_to_thd_1pc\", ascending=False).head(10)"
   ]
  },
  {
   "cell_type": "markdown",
   "id": "4f9da807",
   "metadata": {},
   "source": [
    "### Top 10 price to thd 1%, where sinad is >= 80"
   ]
  },
  {
   "cell_type": "code",
   "execution_count": null,
   "id": "52da222b",
   "metadata": {
    "ExecuteTime": {
     "start_time": "2024-03-18T12:25:30.990Z"
    }
   },
   "outputs": [],
   "source": [
    "data[\n",
    "    data[\"sinad_5w_4ohm\"] >= 80\n",
    "].sort_values(\"price_to_thd_1pc\", ascending=False).head(10)"
   ]
  },
  {
   "cell_type": "markdown",
   "id": "35555967",
   "metadata": {
    "ExecuteTime": {
     "end_time": "2024-03-17T07:03:53.885604Z",
     "start_time": "2024-03-17T07:03:53.871604Z"
    }
   },
   "source": [
    "### Top 10 price to thd 1%, where sinad is >= 100"
   ]
  },
  {
   "cell_type": "code",
   "execution_count": null,
   "id": "5d1d6c9c",
   "metadata": {
    "ExecuteTime": {
     "start_time": "2024-03-18T12:25:30.991Z"
    }
   },
   "outputs": [],
   "source": [
    "data[\n",
    "    data[\"sinad_5w_4ohm\"] >= 100\n",
    "].sort_values(\"price_to_thd_1pc\", ascending=False).head(10)"
   ]
  },
  {
   "cell_type": "markdown",
   "id": "a7ad7d11",
   "metadata": {},
   "source": [
    "## Sinad analysis"
   ]
  },
  {
   "cell_type": "markdown",
   "id": "e5ee5746",
   "metadata": {
    "ExecuteTime": {
     "end_time": "2024-03-17T06:51:09.037270Z",
     "start_time": "2024-03-17T06:51:09.035260Z"
    }
   },
   "source": [
    "### Top 20 sinad performance overall"
   ]
  },
  {
   "cell_type": "code",
   "execution_count": null,
   "id": "0439bdc3",
   "metadata": {
    "ExecuteTime": {
     "start_time": "2024-03-18T12:25:30.992Z"
    }
   },
   "outputs": [],
   "source": [
    "data.sort_values(\"sinad_5w_4ohm\", ascending=False).head(20)"
   ]
  },
  {
   "cell_type": "markdown",
   "id": "3b3198dc",
   "metadata": {},
   "source": [
    "### Top 20 sinad per dollar performance, overall"
   ]
  },
  {
   "cell_type": "code",
   "execution_count": null,
   "id": "071a2da5",
   "metadata": {
    "ExecuteTime": {
     "start_time": "2024-03-18T12:25:30.993Z"
    }
   },
   "outputs": [],
   "source": [
    "data.sort_values(\"price_to_sinad\", ascending=False).head(20)"
   ]
  },
  {
   "cell_type": "markdown",
   "id": "77519bce",
   "metadata": {},
   "source": [
    "### Top 10 sinad per dollar performance, where sinad is > 80"
   ]
  },
  {
   "cell_type": "code",
   "execution_count": null,
   "id": "dc004bf4",
   "metadata": {
    "ExecuteTime": {
     "start_time": "2024-03-18T12:25:30.994Z"
    }
   },
   "outputs": [],
   "source": [
    "data[data[\"sinad_5w_4ohm\"]  >= 80].sort_values(\"price_to_sinad\", ascending=False).head(10)"
   ]
  },
  {
   "cell_type": "markdown",
   "id": "46301b98",
   "metadata": {},
   "source": [
    "### Top 10 sinad per dollar performance, where sinad is > 90"
   ]
  },
  {
   "cell_type": "code",
   "execution_count": null,
   "id": "5bc67f7b",
   "metadata": {
    "ExecuteTime": {
     "start_time": "2024-03-18T12:25:30.995Z"
    }
   },
   "outputs": [],
   "source": [
    "data[data[\"sinad_5w_4ohm\"]  >= 90].sort_values(\"price_to_sinad\", ascending=False).head(10)"
   ]
  },
  {
   "cell_type": "markdown",
   "id": "cea41428",
   "metadata": {},
   "source": [
    "### Top 10 sinad per dollar performance, where sinad is > 100"
   ]
  },
  {
   "cell_type": "code",
   "execution_count": null,
   "id": "77338d7a",
   "metadata": {
    "ExecuteTime": {
     "start_time": "2024-03-18T12:25:30.996Z"
    }
   },
   "outputs": [],
   "source": [
    "data[data[\"sinad_5w_4ohm\"]  >= 100].sort_values(\"price_to_sinad\", ascending=False).head(10)"
   ]
  },
  {
   "cell_type": "markdown",
   "id": "254d9b30",
   "metadata": {},
   "source": [
    "## Price analysis"
   ]
  },
  {
   "cell_type": "markdown",
   "id": "74e000b7",
   "metadata": {},
   "source": [
    "### Most expensive 20"
   ]
  },
  {
   "cell_type": "code",
   "execution_count": null,
   "id": "b53bcf88",
   "metadata": {
    "ExecuteTime": {
     "start_time": "2024-03-18T12:25:30.998Z"
    }
   },
   "outputs": [],
   "source": [
    "data.sort_values(\"price_usd\", ascending=False).head(20)"
   ]
  },
  {
   "cell_type": "markdown",
   "id": "18e74a83",
   "metadata": {},
   "source": [
    "### Cheapest 20"
   ]
  },
  {
   "cell_type": "code",
   "execution_count": null,
   "id": "e903388f",
   "metadata": {
    "ExecuteTime": {
     "start_time": "2024-03-18T12:25:30.999Z"
    }
   },
   "outputs": [],
   "source": [
    "data.sort_values(\"price_usd\", ascending=True).head(20)"
   ]
  },
  {
   "cell_type": "markdown",
   "id": "eb823caf",
   "metadata": {},
   "source": [
    "## Charts"
   ]
  },
  {
   "cell_type": "markdown",
   "id": "c05e669d",
   "metadata": {},
   "source": [
    "### Sinad histogram"
   ]
  },
  {
   "cell_type": "code",
   "execution_count": null,
   "id": "d26f52b9",
   "metadata": {
    "ExecuteTime": {
     "start_time": "2024-03-18T12:25:31.000Z"
    }
   },
   "outputs": [],
   "source": [
    "data[\"sinad_5w_4ohm_integer\"] = data[\"sinad_5w_4ohm\"].apply(lambda x: int(x))"
   ]
  },
  {
   "cell_type": "code",
   "execution_count": null,
   "id": "f5e3b20b",
   "metadata": {
    "ExecuteTime": {
     "start_time": "2024-03-18T12:25:31.001Z"
    }
   },
   "outputs": [],
   "source": [
    "histo_data = data.groupby(by=\"sinad_5w_4ohm_integer\").size().reset_index()"
   ]
  },
  {
   "cell_type": "code",
   "execution_count": null,
   "id": "cda03aea",
   "metadata": {
    "ExecuteTime": {
     "start_time": "2024-03-18T12:25:31.001Z"
    }
   },
   "outputs": [],
   "source": [
    "pygal_data  = [(histo_data.loc[x, 0], histo_data.loc[x, \"sinad_5w_4ohm_integer\"], histo_data.loc[x, \"sinad_5w_4ohm_integer\"] + 1) for x in list(histo_data.index)]"
   ]
  },
  {
   "cell_type": "code",
   "execution_count": null,
   "id": "1ffe44b3",
   "metadata": {
    "ExecuteTime": {
     "start_time": "2024-03-18T12:25:31.002Z"
    },
    "scrolled": false
   },
   "outputs": [],
   "source": [
    "chart = pygal.Histogram()\n",
    "chart.config.title = f\"Sinad histogram (all values rounded down to nearest integer). Mean: {round(data.sinad_5w_4ohm.mean(), 2)}\"\n",
    "chart.config.legend_at_bottom = True\n",
    "chart.add('sinad_5w_4ohm',pygal_data)\n",
    "# display(SVG(chart.render(disable_xml_declaration=True)))\n",
    "\n",
    "# Export to svg\n",
    "chart.render_to_file(\"./chart-exports/sinad-5watt-4ohm-histogram.svg\")"
   ]
  },
  {
   "cell_type": "markdown",
   "id": "cccf456c",
   "metadata": {},
   "source": [
    "### Price usd vs sinad scatter plot"
   ]
  },
  {
   "cell_type": "code",
   "execution_count": null,
   "id": "09cc4018",
   "metadata": {
    "ExecuteTime": {
     "start_time": "2024-03-18T12:25:31.003Z"
    },
    "scrolled": false
   },
   "outputs": [],
   "source": [
    "max_price_filter = 7500\n",
    "first_quartile = data[(data.thd_category == \"0 - 115.5\") & (data.price_usd < max_price_filter)]\n",
    "second_quartile = data[(data.thd_category == \"115.5 - 230.0\") & (data.price_usd < max_price_filter)]\n",
    "third_quartile = data[(data.thd_category == \"230.0 - 422.5\") & (data.price_usd < max_price_filter)]\n",
    "fourth_quartile = data[(data.thd_category == \"422.5 and above\") & (data.price_usd < max_price_filter)]\n",
    "\n",
    "chart = pygal.XY(stroke=False)\n",
    "chart.config.title = f\"price usd (y axis) vs sinad 5watt 4ohm (x axis) where parts under ${max_price_filter} usd,  grouped by thd @ 1% category\"\n",
    "chart.config.legend_at_bottom = True\n",
    "\n",
    "# Add data\n",
    "chart.add(\"115.5 watts and under\", list(zip(first_quartile.sinad_5w_4ohm, first_quartile.price_usd)))\n",
    "chart.add(\"115.5 watts to 230 watts\", list(zip(second_quartile.sinad_5w_4ohm, second_quartile.price_usd)))\n",
    "chart.add(\"230 watts to 422.5 watts\", list(zip(third_quartile.sinad_5w_4ohm, third_quartile.price_usd)))\n",
    "chart.add(\"422.5 watts and above\", list(zip(fourth_quartile.sinad_5w_4ohm, fourth_quartile.price_usd)))\n",
    "\n",
    "\n",
    "# display(SVG(chart.render(disable_xml_declaration=True)))\n",
    "# Export to svg\n",
    "chart.render_to_file(\"./chart-exports/price-usd-vs-sinad-5watt-4ohm-scatterplot.svg\")"
   ]
  },
  {
   "cell_type": "code",
   "execution_count": null,
   "id": "6ac97196",
   "metadata": {},
   "outputs": [],
   "source": []
  }
 ],
 "metadata": {
  "kernelspec": {
   "display_name": "Python 3 (ipykernel)",
   "language": "python",
   "name": "python3"
  },
  "language_info": {
   "codemirror_mode": {
    "name": "ipython",
    "version": 3
   },
   "file_extension": ".py",
   "mimetype": "text/x-python",
   "name": "python",
   "nbconvert_exporter": "python",
   "pygments_lexer": "ipython3",
   "version": "3.8.0"
  },
  "toc": {
   "base_numbering": 1,
   "nav_menu": {},
   "number_sections": true,
   "sideBar": true,
   "skip_h1_title": false,
   "title_cell": "Table of Contents",
   "title_sidebar": "Contents",
   "toc_cell": false,
   "toc_position": {
    "height": "calc(100% - 180px)",
    "left": "10px",
    "top": "150px",
    "width": "355px"
   },
   "toc_section_display": true,
   "toc_window_display": true
  }
 },
 "nbformat": 4,
 "nbformat_minor": 5
}
